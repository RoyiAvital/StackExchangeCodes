{
 "cells": [
  {
   "attachments": {},
   "cell_type": "markdown",
   "metadata": {},
   "source": [
    "[![StackExchnage Codes](https://cdn.sstatic.net/Sites/math/Img/logo.svg?v=4a36350d1199)](https://github.com/RoyiAvital/StackExchangeCodes)\n",
    "\n",
    "# StackExchange Mathematics  \n",
    "\n",
    "## Q2154648 - Manual Implementation of the Kernel SVM to Match SciKit Learn\n",
    "\n",
    "> Notebook by:\n",
    "> - Royi Avital RoyiAvital@yahoo.com\n",
    "\n",
    "## Revision History\n",
    "\n",
    "| Version | Date       | User        |Content / Changes                                                   |\n",
    "|---------|------------|-------------|--------------------------------------------------------------------|\n",
    "| 1.0.000 | 16/08/2025 | Royi Avital | First version                                                      |"
   ]
  },
  {
   "cell_type": "code",
   "execution_count": null,
   "metadata": {
    "ExecuteTime": {
     "end_time": "2022-02-02T09:30:06.492269Z",
     "start_time": "2022-02-02T09:30:06.220934Z"
    }
   },
   "outputs": [],
   "source": [
    "# Import Packages\n",
    "\n",
    "# General Tools\n",
    "import numpy as np\n",
    "import scipy as sp\n",
    "import pandas as pd\n",
    "\n",
    "# Machine Learning\n",
    "from sklearn.inspection import DecisionBoundaryDisplay\n",
    "from sklearn.metrics.pairwise import rbf_kernel\n",
    "from sklearn.svm import SVC\n",
    "\n",
    "# Optimization\n",
    "import cvxpy as cp\n",
    "\n",
    "# Miscellaneous\n",
    "import math\n",
    "from platform import python_version\n",
    "import random\n",
    "\n",
    "# Typing\n",
    "from typing import Callable, List, Optional, Tuple, Union\n",
    "\n",
    "# Visualization\n",
    "import matplotlib.pyplot as plt\n",
    "\n",
    "# Jupyter\n",
    "from IPython import get_ipython"
   ]
  },
  {
   "cell_type": "code",
   "execution_count": null,
   "metadata": {},
   "outputs": [],
   "source": [
    "# Configuration\n",
    "\n",
    "# warnings.filterwarnings(\"ignore\")\n",
    "\n",
    "seedNum = 512\n",
    "np.random.seed(seedNum)\n",
    "random.seed(seedNum)\n",
    "\n",
    "# Matplotlib default color palette\n",
    "lMatPltLibclr = ['#1f77b4', '#ff7f0e', '#2ca02c', '#d62728', '#9467bd', '#8c564b', '#e377c2', '#7f7f7f', '#bcbd22', '#17becf']"
   ]
  },
  {
   "cell_type": "code",
   "execution_count": null,
   "metadata": {},
   "outputs": [],
   "source": [
    "# Auxiliary Functions\n",
    "\n",
    "def Plot2DClsData( mX: np.ndarray, vY: np.ndarray, /, *, hA: Optional[plt.Axes] = None, figSize: Tuple[float, float] = (8.0, 6.0), colorMap: str = 'viridis' ) -> plt.Axes:\n",
    "    \"\"\"\n",
    "    Plots 2D classification data.\n",
    "    \n",
    "    Parameters:\n",
    "    - mX: 2D numpy array of shape (numSamples, 2) containing feature data.\n",
    "    - vY: 1D numpy array of shape (numSamples,) containing class labels.\n",
    "    \"\"\"\n",
    "\n",
    "    if hA is None:\n",
    "        hF, hA = plt.subplots(figsize = figSize)\n",
    "\n",
    "    colorMap = plt.get_cmap(colorMap)\n",
    "\n",
    "    vQ = np.unique(vY)\n",
    "    numCls = np.size(vQ)\n",
    "\n",
    "    for valQ, vClsClr in zip(vQ, colorMap(np.linspace(0, 1, numCls))):\n",
    "        vI = np.flatnonzero(vY == valQ)\n",
    "        hA.scatter(mX[vI, 0], mX[vI, 1], s = 50, edgecolor = 'k', color = vClsClr, label = f'Class: {valQ}')\n",
    "    \n",
    "    hA.set_xlabel(r'$x_1$')\n",
    "    hA.set_ylabel(r'$x_2$')\n",
    "    \n",
    "    return hA\n",
    "\n",
    "def KernelSVMCVXPY( mK: np.ndarray, vY: np.ndarray, /, *, paramC: float = 1.0 ) -> Tuple[np.ndarray, float]:\n",
    "    \"\"\"\n",
    "    Solves the dual problem of a Support Vector Machine using CVXPY.\n",
    "    \n",
    "    Parameters:\n",
    "    - mK: Kernel matrix of shape (numSamples, numSamples).\n",
    "    - vY: Class labels of shape (numSamples,).\n",
    "    - paramC: Regularization parameter.\n",
    "    \n",
    "    Returns:\n",
    "    - vβ: Optimization variables.\n",
    "    - b: Bias term.\n",
    "    \"\"\"\n",
    "    \n",
    "    numSamples = mK.shape[0]\n",
    "    \n",
    "    # Define the dual variable\n",
    "    vβ     = cp.Variable(numSamples)\n",
    "    paramB = cp.Variable(1)\n",
    "    # Define the objective function\n",
    "    hingeLoss = cp.sum(cp.pos(1 - cp.multiply(vY, mK @ vβ + paramB)))\n",
    "    # hingeLoss = cp.sum([cp.pos(1 - vY[ii] * (mK[ii] @ vβ + paramB)) for ii in range(numSamples)])\n",
    "    cpObjFun  = cp.Minimize(0.5 * cp.quad_form(vβ, mK, assume_PSD = True) + (paramC * hingeLoss))\n",
    "    # Define Constraints\n",
    "    cpConst   = []\n",
    "    # Define the Problem\n",
    "    oCvxPrb   = cp.Problem(cpObjFun, cpConst)\n",
    "    \n",
    "    # Solve the problem\n",
    "    # oCvxPrb.solve(solver = cp.SCS, verbose = False)\n",
    "    oCvxPrb.solve(solver = cp.CLARABEL, verbose = False)\n",
    "    \n",
    "    return vβ.value, paramB.value[0].item()"
   ]
  },
  {
   "cell_type": "code",
   "execution_count": null,
   "metadata": {},
   "outputs": [],
   "source": [
    "# Parameters\n",
    "\n",
    "tuGridX = (-3, 3)\n",
    "tuGridY = (-3, 3)\n",
    "numGridPts = 750\n",
    "\n",
    "γ      = 1.0 # RBF Kernel parameter\n",
    "paramC = 1.0 # Regularization parameter"
   ]
  },
  {
   "cell_type": "code",
   "execution_count": null,
   "metadata": {},
   "outputs": [],
   "source": [
    "# Load Data\n",
    "\n",
    "# Based on SciKit Learn's Tutorial: Plot classification boundaries with different SVM Kernels (https://scikit-learn.org/stable/auto_examples/svm/plot_svm_kernels.html)\n",
    "mX = np.array(\n",
    "    [\n",
    "        [ 0.4, -0.7],\n",
    "        [-1.5, -1.0],\n",
    "        [-1.4, -0.9],\n",
    "        [-1.3, -1.2],\n",
    "        [-1.1, -0.2],\n",
    "        [-1.2, -0.4],\n",
    "        [-0.5,  1.2],\n",
    "        [-1.5,  2.1],\n",
    "        [ 1.0,  1.0],\n",
    "        [ 1.3,  0.8],\n",
    "        [ 1.2,  0.5],\n",
    "        [ 0.2, -2.0],\n",
    "        [ 0.5, -2.4],\n",
    "        [ 0.2, -2.3],\n",
    "        [ 0.0, -2.7],\n",
    "        [ 1.3,  2.1],\n",
    "    ]\n",
    ")\n",
    "\n",
    "vY = np.array([-1, -1, -1, -1, -1, -1, -1, -1, 1, 1, 1, 1, 1, 1, 1, 1])"
   ]
  },
  {
   "cell_type": "code",
   "execution_count": null,
   "metadata": {},
   "outputs": [],
   "source": [
    "# Plot Data\n",
    "\n",
    "hA = Plot2DClsData(mX, vY, figSize = (7.0, 7.0))\n",
    "hA.set_title('2D Classification Data')\n",
    "hA.set(xlim = tuGridX, ylim = tuGridY)\n",
    "hA.set_aspect('equal', adjustable = 'box')\n",
    "hA.legend();"
   ]
  },
  {
   "cell_type": "markdown",
   "metadata": {},
   "source": [
    "### Linear Kernel"
   ]
  },
  {
   "cell_type": "code",
   "execution_count": null,
   "metadata": {},
   "outputs": [],
   "source": [
    "# The Kernel Matrix\n",
    "mK = np.dot(mX, mX.T)\n",
    "mK = 0.5 * (mK + mK.T)  # Ensure the kernel matrix is symmetric"
   ]
  },
  {
   "cell_type": "code",
   "execution_count": null,
   "metadata": {},
   "outputs": [],
   "source": [
    "# Reference Solution\n",
    "\n",
    "oSVC = SVC(kernel = 'precomputed', C = paramC, random_state = seedNum)\n",
    "oSVC = oSVC.fit(mK, vY)"
   ]
  },
  {
   "cell_type": "code",
   "execution_count": null,
   "metadata": {},
   "outputs": [],
   "source": [
    "# Classifier Grid\n",
    "vXX = np.linspace(tuGridX[0], tuGridX[1], numGridPts)\n",
    "vYY = np.linspace(tuGridY[0], tuGridY[1], numGridPts)\n",
    "mXX = np.c_[np.tile(vXX, numGridPts), np.repeat(vYY, numGridPts)]\n",
    "mZ  = mXX @ mX.T\n",
    "mZZ = np.reshape(oSVC.predict(mZ), (numGridPts, numGridPts))"
   ]
  },
  {
   "cell_type": "code",
   "execution_count": null,
   "metadata": {},
   "outputs": [],
   "source": [
    "# Plot the Solution\n",
    "\n",
    "hA = Plot2DClsData(mX, vY, figSize = (7.0, 7.0))\n",
    "hA.set_title('Reference Classifier')\n",
    "hA.set(xlim = tuGridX, ylim = tuGridY)\n",
    "hA.set_aspect('equal', adjustable = 'box')\n",
    "hA.contourf(vXX, vYY, mZZ, alpha = 0.35, cmap = 'viridis', vmin = -0.05, vmax = 0.05, levels = [-1, 0.0, 1.0], antialiased = True)\n",
    "hA.contour(vXX, vYY, mZZ, levels = [-1, 0.0, 1.0], colors = 'k', antialiased = True, linewidths = 2.5);"
   ]
  },
  {
   "cell_type": "code",
   "execution_count": null,
   "metadata": {},
   "outputs": [],
   "source": [
    "# Manual Implementation\n",
    "# vβ, paramB = KernelSVMCVXPY(mK, vY.astype(np.float64), paramC = paramC)\n",
    "vβ, paramB = KernelSVMCVXPY(mK, vY, paramC = paramC)\n",
    "vW = mX.T @ vβ"
   ]
  },
  {
   "cell_type": "code",
   "execution_count": null,
   "metadata": {},
   "outputs": [],
   "source": [
    "# Line Parameters\n",
    "lineSlope     = -(vW[0] / vW[1]).item()\n",
    "lineIntercept = -(paramB / vW[1]).item()"
   ]
  },
  {
   "cell_type": "code",
   "execution_count": null,
   "metadata": {},
   "outputs": [],
   "source": [
    "# Line in the Box\n",
    "minY = (tuGridX[0] * lineSlope) + lineIntercept\n",
    "maxY = (tuGridX[1] * lineSlope) + lineIntercept"
   ]
  },
  {
   "cell_type": "code",
   "execution_count": null,
   "metadata": {},
   "outputs": [],
   "source": [
    "hA = Plot2DClsData(mX, vY, figSize = (7.0, 7.0))\n",
    "hA.set_title('Reference Classifier')\n",
    "hA.set(xlim = tuGridX, ylim = tuGridY)\n",
    "hA.set_aspect('equal', adjustable = 'box')\n",
    "hA.contourf(vXX, vYY, mZZ, alpha = 0.35, cmap = 'viridis', vmin = -0.05, vmax = 0.05, levels = [-1, 0.0, 1.0], antialiased = True)\n",
    "hA.contour(vXX, vYY, mZZ, levels = [-1, 0.0, 1.0], colors = 'k', antialiased = True, linewidths = 2.5);\n",
    "hA.axline((tuGridX[0], minY), (tuGridX[1], maxY), color = 'red', linestyle = '--', linewidth = 2.0, label = 'SVM Classifier (Manual)')\n",
    "hA.legend();"
   ]
  },
  {
   "cell_type": "markdown",
   "metadata": {},
   "source": [
    "### RBF Kernel"
   ]
  },
  {
   "cell_type": "code",
   "execution_count": null,
   "metadata": {},
   "outputs": [],
   "source": [
    "### Generate the Kernel Matrix\n",
    "\n",
    "# Kernel Matrix of RBF Kernel\n",
    "mK = rbf_kernel(mX, gamma = γ)"
   ]
  },
  {
   "cell_type": "code",
   "execution_count": null,
   "metadata": {},
   "outputs": [],
   "source": [
    "# Reference Solution\n",
    "\n",
    "oSVC = SVC(kernel = 'precomputed', C = paramC, random_state = seedNum)\n",
    "oSVC = oSVC.fit(mK, vY)"
   ]
  },
  {
   "cell_type": "code",
   "execution_count": null,
   "metadata": {},
   "outputs": [],
   "source": [
    "# Manual Implementation\n",
    "vβ, paramB = KernelSVMCVXPY(mK, vY, paramC = paramC)"
   ]
  },
  {
   "cell_type": "code",
   "execution_count": null,
   "metadata": {},
   "outputs": [],
   "source": [
    "# Classifier Grid\n",
    "vXX = np.linspace(tuGridX[0], tuGridX[1], numGridPts)\n",
    "vYY = np.linspace(tuGridY[0], tuGridY[1], numGridPts)\n",
    "mXX = np.c_[np.tile(vXX, numGridPts), np.repeat(vYY, numGridPts)]\n",
    "mZ  = rbf_kernel(mXX, mX, gamma = γ)\n",
    "mZZ = np.reshape(oSVC.predict(mZ), (numGridPts, numGridPts))"
   ]
  },
  {
   "cell_type": "code",
   "execution_count": null,
   "metadata": {},
   "outputs": [],
   "source": [
    "# Plot the Solution\n",
    "\n",
    "hA = Plot2DClsData(mX, vY, figSize = (7.0, 7.0))\n",
    "hA.set_title('Reference Classifier')\n",
    "hA.set(xlim = tuGridX, ylim = tuGridY)\n",
    "hA.set_aspect('equal', adjustable = 'box')\n",
    "hA.contourf(vXX, vYY, mZZ, alpha = 0.35, cmap = 'viridis', vmin = -0.05, vmax = 0.05, levels = [-1, 0.0, 1.0], antialiased = True)\n",
    "hA.contour(vXX, vYY, mZZ, levels = [-1, 0.0, 1.0], colors = 'k', antialiased = True, linewidths = 2.5);"
   ]
  },
  {
   "cell_type": "code",
   "execution_count": null,
   "metadata": {},
   "outputs": [],
   "source": [
    "# Prediction of the Manual Implementation\n",
    "mZZ = np.reshape(np.sign(mZ @ vβ + paramB), (numGridPts, numGridPts))"
   ]
  },
  {
   "cell_type": "code",
   "execution_count": null,
   "metadata": {},
   "outputs": [],
   "source": [
    "# Plot the Solution\n",
    "\n",
    "hA = Plot2DClsData(mX, vY, figSize = (7.0, 7.0))\n",
    "hA.set_title('Manual Implementation Classifier')\n",
    "hA.set(xlim = tuGridX, ylim = tuGridY)\n",
    "hA.set_aspect('equal', adjustable = 'box')\n",
    "hA.contourf(vXX, vYY, mZZ, alpha = 0.35, cmap = 'viridis', vmin = -0.05, vmax = 0.05, levels = [-1, 0.0, 1.0], antialiased = True)\n",
    "hA.contour(vXX, vYY, mZZ, levels = [-1, 0.0, 1.0], colors = 'k', antialiased = True, linewidths = 2.5);"
   ]
  }
 ],
 "metadata": {
  "kernelspec": {
   "display_name": "Python 3",
   "language": "python",
   "name": "python3"
  },
  "language_info": {
   "codemirror_mode": {
    "name": "ipython",
    "version": 3
   },
   "file_extension": ".py",
   "mimetype": "text/x-python",
   "name": "python",
   "nbconvert_exporter": "python",
   "pygments_lexer": "ipython3",
   "version": "3.13.5"
  },
  "toc": {
   "base_numbering": 1,
   "nav_menu": {},
   "number_sections": false,
   "sideBar": true,
   "skip_h1_title": false,
   "title_cell": "Table of Contents",
   "title_sidebar": "Contents",
   "toc_cell": false,
   "toc_position": {},
   "toc_section_display": true,
   "toc_window_display": true
  },
  "varInspector": {
   "cols": {
    "lenName": 16,
    "lenType": 16,
    "lenVar": 40
   },
   "kernels_config": {
    "python": {
     "delete_cmd_postfix": "",
     "delete_cmd_prefix": "del ",
     "library": "var_list.py",
     "varRefreshCmd": "print(var_dic_list())"
    },
    "r": {
     "delete_cmd_postfix": ") ",
     "delete_cmd_prefix": "rm(",
     "library": "var_list.r",
     "varRefreshCmd": "cat(var_dic_list()) "
    }
   },
   "types_to_exclude": [
    "module",
    "function",
    "builtin_function_or_method",
    "instance",
    "_Feature"
   ],
   "window_display": false
  },
  "vscode": {
   "interpreter": {
    "hash": "39577bab1f263e62e0b74f5b8086bd735049bf4751f6562b2d4b2969dc308293"
   }
  }
 },
 "nbformat": 4,
 "nbformat_minor": 4
}
